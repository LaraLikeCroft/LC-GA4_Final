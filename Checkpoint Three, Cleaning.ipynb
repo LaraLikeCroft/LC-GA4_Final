{
 "cells": [
  {
   "cell_type": "markdown",
   "metadata": {
    "azdata_cell_guid": "26037d32-2047-4157-81ef-595916bd66a0"
   },
   "source": [
    "# Checkpoint Three: Cleaning Data\n",
    "\n",
    "Now you are ready to clean your data. Before starting coding, provide the link to your dataset below.\n",
    "\n",
    "My dataset: DDV Dataset with Formulas and Macros\n",
    "\n",
    "Import the necessary libraries and create your dataframe(s)."
   ]
  },
  {
   "cell_type": "markdown",
   "metadata": {
    "azdata_cell_guid": "e8adef8e-d0f2-4640-a179-5997f11e82ca"
   },
   "source": [
    "_Overall Cleaning Items_\n",
    "Combined fishDataset and ingredientsDataset\n",
    "Added ingredients for AnyIngredient recipes\n",
    "Used VBA loop to replace Ingredients with Index and TextToColumns them out in individual columns for query\n",
    "Used IF(COUNTIF) to create boolean ingredient values for each biome (Can this ingredient be found here or not)\n",
    "Replaced multiple Source type with overall source type \n",
    "Removed spaces in all but recipeName because I hate them"
   ]
  },
  {
   "cell_type": "markdown",
   "metadata": {
    "azdata_cell_guid": "e172475a-c4ee-414a-8367-9965355dbba6"
   },
   "source": [
    "## Missing Data\n",
    "\n",
    "Test your dataset for missing data and handle it as needed. Make notes in the form of code comments as to your thought process."
   ]
  },
  {
   "cell_type": "markdown",
   "metadata": {
    "azdata_cell_guid": "e1dc66ef-e471-4c27-92e7-ee878c106eba"
   },
   "source": [
    "Fish were missing from the overall Ingredients scrape and I had to pull together a separate scrape to get a complete ingredient list. "
   ]
  },
  {
   "cell_type": "markdown",
   "metadata": {
    "azdata_cell_guid": "1233f543-e9a0-4f78-96f5-d7536554102e"
   },
   "source": [
    "## Irregular Data\n",
    "\n",
    "Detect outliers in your dataset and handle them as needed. Use code comments to make notes about your thought process."
   ]
  },
  {
   "cell_type": "markdown",
   "metadata": {
    "azdata_cell_guid": "efed50ae-16f0-471d-98e2-632553a74c12"
   },
   "source": [
    "Querying the Ingredients by recipe using the standard Ingredient table, I found holiday and special event recipes affecting my dataset that I removed. Also in the scrapes, there are many values that share a cell. I used VBA to split ingredients out into their own columns"
   ]
  },
  {
   "cell_type": "markdown",
   "metadata": {
    "azdata_cell_guid": "6f5b8ee0-bab3-44bc-958a-67d1e4c0407f"
   },
   "source": [
    "## Unnecessary Data\n",
    "\n",
    "Look for the different types of unnecessary data in your dataset and address it as needed. Make sure to use code comments to illustrate your thought process."
   ]
  },
  {
   "cell_type": "markdown",
   "metadata": {
    "azdata_cell_guid": "e788a239-2fbf-41de-9bd3-19e52e3b187c"
   },
   "source": [
    "Energy was an unneccesary column in both sets for me and I dropped it. Ingredients has information for seed sources and Buy Price that would be helpful for calculating profit margin, but was unnecessary for this project. "
   ]
  },
  {
   "cell_type": "markdown",
   "metadata": {
    "azdata_cell_guid": "53e0cf94-c68a-4fa0-9849-9505a66bcce6"
   },
   "source": [
    "## Inconsistent Data\n",
    "\n",
    "Check for inconsistent data and address any that arises. As always, use code comments to illustrate your thought process."
   ]
  },
  {
   "cell_type": "markdown",
   "metadata": {
    "azdata_cell_guid": "e9de6624-812a-43f8-8e20-93b4a49b091f"
   },
   "source": [
    "When querying on recipes containing fish, I saw Seafood was being improperly classified. These ingredients aren't synonymous in the system and needed to be updated. "
   ]
  },
  {
   "cell_type": "markdown",
   "metadata": {
    "azdata_cell_guid": "dedc0bfe-17d0-40b2-914f-2ddb54f9ce0d"
   },
   "source": [
    "## Summarize Your Results\n",
    "\n",
    "Make note of your answers to the following questions.\n",
    "\n",
    "1. Did you find all four types of dirty data in your dataset? <span style=\"color:mediumorchid\"> Yes, above. </span>\n",
    "2. Did the process of cleaning your data give you new insights into your dataset? <span style=\"color:mediumorchid\">  Finding the ingredient table does not include fish was imperitave and I'm glad I took a minute to check and clean before loading into SQL for query </span>\n",
    "3. Is there anything you would like to make note of when it comes to manipulating the data and making visualizations? <span style=\"color:mediumorchid\"> I did need to edit AnyIngredient recipes to include actual ingredients for the calculation and I had to manipulate the format to get information by column rather than by blurb in a single cell </span>"
   ]
  },
  {
   "cell_type": "code",
   "execution_count": null,
   "metadata": {},
   "outputs": [],
   "source": []
  }
 ],
 "metadata": {
  "kernelspec": {
   "display_name": "Python 3 (ipykernel)",
   "language": "python",
   "name": "python3"
  },
  "language_info": {
   "codemirror_mode": {
    "name": "ipython",
    "version": 3
   },
   "file_extension": ".py",
   "mimetype": "text/x-python",
   "name": "python",
   "nbconvert_exporter": "python",
   "pygments_lexer": "ipython3",
   "version": "3.11.4"
  }
 },
 "nbformat": 4,
 "nbformat_minor": 2
}
